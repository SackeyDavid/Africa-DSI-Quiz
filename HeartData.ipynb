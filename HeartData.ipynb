{
 "cells": [
  {
   "cell_type": "code",
   "execution_count": 1246,
   "metadata": {},
   "outputs": [],
   "source": [
    "import pandas as pd\n",
    "from matplotlib import pyplot as plt\n",
    "%matplotlib inline"
   ]
  },
  {
   "cell_type": "code",
   "execution_count": 1247,
   "metadata": {},
   "outputs": [
    {
     "data": {
      "text/html": [
       "<div>\n",
       "<style scoped>\n",
       "    .dataframe tbody tr th:only-of-type {\n",
       "        vertical-align: middle;\n",
       "    }\n",
       "\n",
       "    .dataframe tbody tr th {\n",
       "        vertical-align: top;\n",
       "    }\n",
       "\n",
       "    .dataframe thead th {\n",
       "        text-align: right;\n",
       "    }\n",
       "</style>\n",
       "<table border=\"1\" class=\"dataframe\">\n",
       "  <thead>\n",
       "    <tr style=\"text-align: right;\">\n",
       "      <th></th>\n",
       "      <th>age</th>\n",
       "      <th>sex</th>\n",
       "      <th>feature1</th>\n",
       "      <th>feature2</th>\n",
       "      <th>feature3</th>\n",
       "      <th>feature4</th>\n",
       "      <th>feature5</th>\n",
       "      <th>feature6</th>\n",
       "      <th>feature7</th>\n",
       "      <th>feature8</th>\n",
       "      <th>feature9</th>\n",
       "      <th>feature10</th>\n",
       "      <th>ID</th>\n",
       "      <th>target</th>\n",
       "    </tr>\n",
       "  </thead>\n",
       "  <tbody>\n",
       "    <tr>\n",
       "      <th>0</th>\n",
       "      <td>58.0</td>\n",
       "      <td>NaN</td>\n",
       "      <td>2.0</td>\n",
       "      <td>105.0</td>\n",
       "      <td>240.0</td>\n",
       "      <td>0</td>\n",
       "      <td>0.0</td>\n",
       "      <td>154.0</td>\n",
       "      <td>1</td>\n",
       "      <td>0.6</td>\n",
       "      <td>1.0</td>\n",
       "      <td>0.0</td>\n",
       "      <td>253</td>\n",
       "      <td>1</td>\n",
       "    </tr>\n",
       "    <tr>\n",
       "      <th>1</th>\n",
       "      <td>60.0</td>\n",
       "      <td>0</td>\n",
       "      <td>3.0</td>\n",
       "      <td>150.0</td>\n",
       "      <td>240.0</td>\n",
       "      <td>0</td>\n",
       "      <td>1.0</td>\n",
       "      <td>171.0</td>\n",
       "      <td>0</td>\n",
       "      <td>0.9</td>\n",
       "      <td>2.0</td>\n",
       "      <td>0.0</td>\n",
       "      <td>333</td>\n",
       "      <td>1</td>\n",
       "    </tr>\n",
       "    <tr>\n",
       "      <th>2</th>\n",
       "      <td>67.0</td>\n",
       "      <td>0</td>\n",
       "      <td>0.0</td>\n",
       "      <td>106.0</td>\n",
       "      <td>223.0</td>\n",
       "      <td>NaN</td>\n",
       "      <td>1.0</td>\n",
       "      <td>142.0</td>\n",
       "      <td>0</td>\n",
       "      <td>0.3</td>\n",
       "      <td>2.0</td>\n",
       "      <td>2.0</td>\n",
       "      <td>496</td>\n",
       "      <td>1</td>\n",
       "    </tr>\n",
       "    <tr>\n",
       "      <th>3</th>\n",
       "      <td>29.0</td>\n",
       "      <td>m</td>\n",
       "      <td>1.0</td>\n",
       "      <td>130.0</td>\n",
       "      <td>204.0</td>\n",
       "      <td>0</td>\n",
       "      <td>0.0</td>\n",
       "      <td>202.0</td>\n",
       "      <td>0</td>\n",
       "      <td>0.0</td>\n",
       "      <td>2.0</td>\n",
       "      <td>0.0</td>\n",
       "      <td>446</td>\n",
       "      <td>1</td>\n",
       "    </tr>\n",
       "    <tr>\n",
       "      <th>4</th>\n",
       "      <td>35.0</td>\n",
       "      <td>1</td>\n",
       "      <td>0.0</td>\n",
       "      <td>126.0</td>\n",
       "      <td>282.0</td>\n",
       "      <td>0</td>\n",
       "      <td>0.0</td>\n",
       "      <td>156.0</td>\n",
       "      <td>1</td>\n",
       "      <td>0.0</td>\n",
       "      <td>2.0</td>\n",
       "      <td>0.0</td>\n",
       "      <td>289</td>\n",
       "      <td>0</td>\n",
       "    </tr>\n",
       "  </tbody>\n",
       "</table>\n",
       "</div>"
      ],
      "text/plain": [
       "    age  sex  feature1  feature2  feature3 feature4  feature5  feature6  \\\n",
       "0  58.0  NaN       2.0     105.0     240.0        0       0.0     154.0   \n",
       "1  60.0    0       3.0     150.0     240.0        0       1.0     171.0   \n",
       "2  67.0    0       0.0     106.0     223.0      NaN       1.0     142.0   \n",
       "3  29.0    m       1.0     130.0     204.0        0       0.0     202.0   \n",
       "4  35.0    1       0.0     126.0     282.0        0       0.0     156.0   \n",
       "\n",
       "  feature7  feature8  feature9  feature10   ID  target  \n",
       "0        1       0.6       1.0        0.0  253       1  \n",
       "1        0       0.9       2.0        0.0  333       1  \n",
       "2        0       0.3       2.0        2.0  496       1  \n",
       "3        0       0.0       2.0        0.0  446       1  \n",
       "4        1       0.0       2.0        0.0  289       0  "
      ]
     },
     "execution_count": 1247,
     "metadata": {},
     "output_type": "execute_result"
    }
   ],
   "source": [
    "htd = pd.read_csv(\"heart_training_data.csv\")\n",
    "htd_test = pd.read_csv(\"heart_test_data.csv\")\n",
    "\n",
    "htd.head()"
   ]
  },
  {
   "cell_type": "code",
   "execution_count": 1248,
   "metadata": {},
   "outputs": [],
   "source": [
    "import numpy as np\n",
    "\n",
    "test_set = []"
   ]
  },
  {
   "cell_type": "code",
   "execution_count": 1249,
   "metadata": {},
   "outputs": [
    {
     "name": "stdout",
     "output_type": "stream",
     "text": [
      "8 831\n"
     ]
    },
    {
     "data": {
      "text/plain": [
       "[age           63\n",
       " sex            0\n",
       " feature1       0\n",
       " feature2     124\n",
       " feature3     197\n",
       " feature4       0\n",
       " feature5       1\n",
       " feature6     136\n",
       " feature7       1\n",
       " feature8       0\n",
       " feature9       1\n",
       " feature10      0\n",
       " ID           831\n",
       " Name: 8, dtype: object]"
      ]
     },
     "execution_count": 1249,
     "metadata": {},
     "output_type": "execute_result"
    }
   ],
   "source": [
    "# fetch only row with ID 831, part of what is needed to analyse the model \n",
    "for index, row in htd_test.iterrows():\n",
    "    if(row.ID == 831):\n",
    "        test_set.append(row)\n",
    "        print(index, row.ID)\n",
    "        \n",
    "        \n",
    "        \n",
    "#X1_test = np.array(test_set)\n",
    "\n",
    "#X1_test\n",
    "test_set"
   ]
  },
  {
   "cell_type": "code",
   "execution_count": 1250,
   "metadata": {},
   "outputs": [
    {
     "data": {
      "text/plain": [
       "(219, 14)"
      ]
     },
     "execution_count": 1250,
     "metadata": {},
     "output_type": "execute_result"
    }
   ],
   "source": [
    "htd.shape"
   ]
  },
  {
   "cell_type": "code",
   "execution_count": 1251,
   "metadata": {},
   "outputs": [],
   "source": [
    "# replace missing ages with median\n",
    "\n",
    "impute_value1 = htd['age'].median()\n",
    "impute_value2 = htd_test['age'].median()\n",
    "\n",
    "htd['age'] = htd['age'].fillna(impute_value1) \n",
    "htd_test['age'] = htd_test['age'].fillna(impute_value2) \n",
    "#htd.dropna(subset=['age'], how='any', inplace=True)"
   ]
  },
  {
   "cell_type": "code",
   "execution_count": 1252,
   "metadata": {},
   "outputs": [
    {
     "data": {
      "text/plain": [
       "(219, 14)"
      ]
     },
     "execution_count": 1252,
     "metadata": {},
     "output_type": "execute_result"
    }
   ],
   "source": [
    "htd.shape"
   ]
  },
  {
   "cell_type": "code",
   "execution_count": 1253,
   "metadata": {},
   "outputs": [
    {
     "data": {
      "text/plain": [
       "1         136\n",
       "0          69\n",
       "NaN         8\n",
       "m           2\n",
       "male        2\n",
       "f           1\n",
       "female      1\n",
       "Name: sex, dtype: int64"
      ]
     },
     "execution_count": 1253,
     "metadata": {},
     "output_type": "execute_result"
    }
   ],
   "source": [
    "htd['sex'].value_counts(dropna=False)"
   ]
  },
  {
   "cell_type": "code",
   "execution_count": 1254,
   "metadata": {},
   "outputs": [],
   "source": [
    "# drop missing sex\n",
    "htd.dropna(subset=['sex'], how='any', inplace=True)\n",
    "htd_test.dropna(subset=['sex'], how='any', inplace=True)"
   ]
  },
  {
   "cell_type": "code",
   "execution_count": 1255,
   "metadata": {},
   "outputs": [
    {
     "data": {
      "text/plain": [
       "(211, 14)"
      ]
     },
     "execution_count": 1255,
     "metadata": {},
     "output_type": "execute_result"
    }
   ],
   "source": [
    "htd.shape"
   ]
  },
  {
   "cell_type": "code",
   "execution_count": 1256,
   "metadata": {},
   "outputs": [
    {
     "data": {
      "text/plain": [
       "1         136\n",
       "0          69\n",
       "m           2\n",
       "male        2\n",
       "f           1\n",
       "female      1\n",
       "Name: sex, dtype: int64"
      ]
     },
     "execution_count": 1256,
     "metadata": {},
     "output_type": "execute_result"
    }
   ],
   "source": [
    "htd['sex'].value_counts(dropna=False)"
   ]
  },
  {
   "cell_type": "code",
   "execution_count": 1257,
   "metadata": {},
   "outputs": [
    {
     "data": {
      "text/plain": [
       "1      0\n",
       "2      0\n",
       "4      1\n",
       "5      0\n",
       "7      1\n",
       "      ..\n",
       "214    1\n",
       "215    1\n",
       "216    1\n",
       "217    1\n",
       "218    0\n",
       "Name: sex, Length: 205, dtype: int32"
      ]
     },
     "execution_count": 1257,
     "metadata": {},
     "output_type": "execute_result"
    }
   ],
   "source": [
    "for index, row in htd.iterrows():\n",
    "    if(row.sex == 'f'):\n",
    "        htd.drop(index, inplace=True)\n",
    "        \n",
    "    if(row.sex == 'm'):\n",
    "        htd.drop(index, inplace=True)\n",
    "        \n",
    "    if(row.sex == 'male'):\n",
    "        htd.drop(index, inplace=True)\n",
    "        \n",
    "    if(row.sex == 'female'):\n",
    "        htd.drop(index, inplace=True) \n",
    "       \n",
    "    \n",
    "for index, row in htd_test.iterrows():\n",
    "    if(row.sex == 'f'):\n",
    "        htd_test.drop(index, inplace=True)\n",
    "        \n",
    "    if(row.sex == 'm'):\n",
    "        htd_test.drop(index, inplace=True)\n",
    "        \n",
    "    if(row.sex == 'male'):\n",
    "        htd_test.drop(index, inplace=True)\n",
    "        \n",
    "    if(row.sex == 'female'):\n",
    "        htd_test.drop(index, inplace=True) \n",
    "        \n",
    "        \n",
    "\n",
    "\n",
    "htd.sex.astype(int)"
   ]
  },
  {
   "cell_type": "code",
   "execution_count": 1258,
   "metadata": {},
   "outputs": [
    {
     "data": {
      "text/plain": [
       "(205, 14)"
      ]
     },
     "execution_count": 1258,
     "metadata": {},
     "output_type": "execute_result"
    }
   ],
   "source": [
    "htd.shape"
   ]
  },
  {
   "cell_type": "code",
   "execution_count": 1259,
   "metadata": {},
   "outputs": [],
   "source": [
    "#plt.scatter(heart_training_data.age, heart_training_data.target, marker=\"+\", color=\"red\")\n",
    "# replace all other NaNs with means\n",
    "#htd.head(50)"
   ]
  },
  {
   "cell_type": "code",
   "execution_count": null,
   "metadata": {},
   "outputs": [],
   "source": []
  },
  {
   "cell_type": "code",
   "execution_count": 1260,
   "metadata": {},
   "outputs": [],
   "source": [
    "_ = htd['feature1'].fillna(htd.feature1.mean(), inplace=True)\n",
    "_ = htd['feature2'].fillna(htd.feature2.mean(), inplace=True)\n",
    "_ = htd['feature3'].fillna(htd.feature3.mean(), inplace=True)\n",
    "_ = htd['feature4'].fillna(method=\"ffill\", inplace=True)\n",
    "_ = htd['feature5'].fillna(htd.feature5.mean(), inplace=True)\n",
    "_ = htd['feature6'].fillna(htd.feature6.mean(), inplace=True)\n",
    "_ = htd['feature7'].fillna(method=\"ffill\", inplace=True)\n",
    "_ = htd['feature8'].fillna(htd.feature8.mean(), inplace=True)\n",
    "_ = htd['feature9'].fillna(htd.feature9.mean(), inplace=True)\n",
    "_ = htd['feature10'].fillna(htd.feature10.mean(), inplace=True)\n",
    "\n",
    "_ = htd_test['age'].fillna(htd_test.age.mean(), inplace=True)\n",
    "_ = htd_test['feature1'].fillna(htd_test.feature1.mean(), inplace=True)\n",
    "_ = htd_test['feature2'].fillna(htd_test.feature2.mean(), inplace=True)\n",
    "_ = htd_test['feature3'].fillna(htd_test.feature3.mean(), inplace=True)\n",
    "_ = htd_test['feature4'].fillna(method=\"ffill\", inplace=True)\n",
    "_ = htd_test['feature5'].fillna(htd_test.feature5.mean(), inplace=True)\n",
    "_ = htd_test['feature6'].fillna(htd_test.feature6.mean(), inplace=True)\n",
    "_ = htd_test['feature7'].fillna(method=\"ffill\", inplace=True)\n",
    "_ = htd_test['feature8'].fillna(htd_test.feature8.mean(), inplace=True)\n",
    "_ = htd_test['feature9'].fillna(htd_test.feature9.mean(), inplace=True)\n",
    "_ = htd_test['feature10'].fillna(htd_test.feature10.mean(), inplace=True)\n",
    "\n",
    "#, 'feature2', 'feature3', 'feature4', 'feature5', 'feature6', 'feature7', 'feature8', 'feature9', 'feature10'], inplace=True)"
   ]
  },
  {
   "cell_type": "code",
   "execution_count": 1261,
   "metadata": {},
   "outputs": [],
   "source": [
    "htd_test.dropna(subset=['feature4'], how='any', inplace=True)"
   ]
  },
  {
   "cell_type": "code",
   "execution_count": 1262,
   "metadata": {},
   "outputs": [
    {
     "data": {
      "text/plain": [
       "1     False\n",
       "2     False\n",
       "4     False\n",
       "5     False\n",
       "6     False\n",
       "      ...  \n",
       "88    False\n",
       "89    False\n",
       "91    False\n",
       "92    False\n",
       "93    False\n",
       "Name: feature4, Length: 87, dtype: bool"
      ]
     },
     "execution_count": 1262,
     "metadata": {},
     "output_type": "execute_result"
    }
   ],
   "source": [
    "htd_test.drop(0, inplace=True)\n",
    "htd_test.feature4.isnull()"
   ]
  },
  {
   "cell_type": "code",
   "execution_count": 1263,
   "metadata": {},
   "outputs": [],
   "source": [
    "htd['sex'] = htd.sex.astype(int)\n",
    "htd_test['sex'] = htd.sex.astype(int)\n",
    "\n",
    "for index, row in htd.iterrows():\n",
    "    if(row.feature4 == 'FALSE'):\n",
    "        htd.drop(index, inplace=True)\n",
    "    \n",
    "    if(row.feature4 == 'False'):\n",
    "        htd.drop(index, inplace=True)\n",
    "        \n",
    "    if(row.feature4 == 'f'):\n",
    "        htd.drop(index, inplace=True)\n",
    "    \n",
    "    if(row.feature4 == 'false'):\n",
    "        htd.drop(index, inplace=True)\n",
    "        \n",
    "        \n",
    "for index, row in htd.iterrows():\n",
    "    if(row.feature7 == 'N'):\n",
    "        htd.drop(index, inplace=True)\n",
    "        \n",
    "    if(row.feature7 == 'Yes'):\n",
    "        htd.drop(index, inplace=True)\n",
    "        \n",
    "    if(row.feature7 == 'Y'):\n",
    "        htd.drop(index, inplace=True)\n",
    "        \n",
    "\n",
    "for index, row in htd_test.iterrows():\n",
    "    if(row.feature4 == 'FALSE'):\n",
    "        htd_test.drop(index, inplace=True)\n",
    "    \n",
    "    if(row.feature4 == 'TRUE'):\n",
    "        htd_test.drop(index, inplace=True)\n",
    "        \n",
    "    if(row.feature4 == 'false'):\n",
    "        htd_test.drop(index, inplace=True)\n",
    "        \n",
    "        \n",
    "        \n",
    "for index, row in htd_test.iterrows():\n",
    "    if(row.feature7 == 'N'):\n",
    "        htd_test.drop(index, inplace=True)\n",
    "        \n",
    "    if(row.feature7 == 'Yes'):\n",
    "        htd_test.drop(index, inplace=True)\n",
    "    \n",
    "    if(row.feature7 == 'No'):\n",
    "        htd_test.drop(index, inplace=True)\n",
    "        \n",
    "    if(row.feature7 == 'no'):\n",
    "        htd_test.drop(index, inplace=True)\n",
    "        \n",
    "    if(row.feature7 == 'Y'):\n",
    "        htd_test.drop(index, inplace=True)\n",
    "        \n",
    "\n",
    "htd['feature4'] = htd.feature4.astype(int)\n",
    "#htd_test['feature4'] = htd.feature4.astype(int)\n",
    "\n",
    "htd['feature7'] = htd.feature7.astype(int)\n",
    "htd_test['feature7'] = htd.feature7.astype(int)\n",
    "\n",
    "\n",
    "htd['age'] = htd.age.astype(int)\n",
    "htd['feature1'] = htd.feature1.astype(int)\n",
    "htd['feature9'] = htd.feature9.astype(int)\n",
    "htd['feature10'] = htd.feature10.astype(int)\n",
    "htd['feature6'] = htd.feature6.astype(int)\n",
    "htd['feature7'] = htd.feature7.astype(int)\n",
    "htd['feature5'] = htd.feature5.astype(int)\n",
    "htd['feature4'] = htd.feature4.astype(int)\n",
    "htd['feature3'] = htd.feature3.astype(int)\n",
    "htd['feature2'] = htd.feature2.astype(int)\n",
    "\n",
    "\n",
    "htd_test['age'] = htd_test.age.astype(int)\n",
    "htd_test['feature1'] = htd_test.feature1.astype(int)\n",
    "htd_test['feature9'] = htd_test.feature9.astype(int)\n",
    "htd_test['feature10'] = htd_test.feature10.astype(int)\n",
    "htd_test['feature6'] = htd_test.feature6.astype(int)\n",
    "\n",
    "htd_test['feature5'] = htd_test.feature5.astype(int)\n",
    "htd_test['feature4'] = htd_test.feature4.astype(int)\n",
    "htd_test['feature3'] = htd_test.feature3.astype(int)\n",
    "htd_test['feature2'] = htd_test.feature2.astype(int)\n",
    "\n"
   ]
  },
  {
   "cell_type": "code",
   "execution_count": 1264,
   "metadata": {},
   "outputs": [
    {
     "data": {
      "text/plain": [
       "1     0.0\n",
       "2     0.0\n",
       "4     1.0\n",
       "5     0.0\n",
       "6     NaN\n",
       "     ... \n",
       "86    1.0\n",
       "88    1.0\n",
       "89    0.0\n",
       "92    0.0\n",
       "93    0.0\n",
       "Name: feature7, Length: 81, dtype: float64"
      ]
     },
     "execution_count": 1264,
     "metadata": {},
     "output_type": "execute_result"
    }
   ],
   "source": [
    "#htd_test['feature7'] = htd_test.feature7.astype(int)\n",
    "htd_test.feature7"
   ]
  },
  {
   "cell_type": "code",
   "execution_count": 1265,
   "metadata": {},
   "outputs": [
    {
     "data": {
      "text/plain": [
       "age            int32\n",
       "sex            int32\n",
       "feature1       int32\n",
       "feature2       int32\n",
       "feature3       int32\n",
       "feature4       int32\n",
       "feature5       int32\n",
       "feature6       int32\n",
       "feature7       int32\n",
       "feature8     float64\n",
       "feature9       int32\n",
       "feature10      int32\n",
       "ID             int64\n",
       "target         int64\n",
       "dtype: object"
      ]
     },
     "execution_count": 1265,
     "metadata": {},
     "output_type": "execute_result"
    }
   ],
   "source": [
    "htd.dtypes"
   ]
  },
  {
   "cell_type": "code",
   "execution_count": 1266,
   "metadata": {},
   "outputs": [],
   "source": [
    "predictors = ['age', 'sex', 'feature1', 'feature2', 'feature3', 'feature4', 'feature5', 'feature6', 'feature7', 'feature8', 'feature9', 'feature10', 'ID']"
   ]
  },
  {
   "cell_type": "code",
   "execution_count": 1267,
   "metadata": {},
   "outputs": [
    {
     "data": {
      "text/plain": [
       "age            int32\n",
       "sex            int32\n",
       "feature1       int32\n",
       "feature2       int32\n",
       "feature3       int32\n",
       "feature4       int32\n",
       "feature5       int32\n",
       "feature6       int32\n",
       "feature7       int32\n",
       "feature8     float64\n",
       "feature9       int32\n",
       "feature10      int32\n",
       "ID             int64\n",
       "target         int64\n",
       "dtype: object"
      ]
     },
     "execution_count": 1267,
     "metadata": {},
     "output_type": "execute_result"
    }
   ],
   "source": [
    "htd.dtypes"
   ]
  },
  {
   "cell_type": "code",
   "execution_count": 1268,
   "metadata": {},
   "outputs": [],
   "source": [
    "htd_test.dropna(subset=['feature7'], how='any', inplace=True)"
   ]
  },
  {
   "cell_type": "code",
   "execution_count": 1269,
   "metadata": {},
   "outputs": [
    {
     "data": {
      "text/plain": [
       "0"
      ]
     },
     "execution_count": 1269,
     "metadata": {},
     "output_type": "execute_result"
    }
   ],
   "source": [
    "htd_test.feature7.isnull().sum()"
   ]
  },
  {
   "cell_type": "code",
   "execution_count": 1270,
   "metadata": {},
   "outputs": [
    {
     "name": "stdout",
     "output_type": "stream",
     "text": [
      "20 946.0\n",
      "47 637.0\n",
      "75 688.0\n"
     ]
    },
    {
     "data": {
      "text/plain": [
       "array([[63.0, '0', 0.0, 124.0, 197.0, '0', 1.0, 136.0, '1', 0.0, 1.0,\n",
       "        0.0, 831],\n",
       "       [52.0, 1.0, 1.0, 120.0, 325.0, 0.0, 1.0, 172.0, 0.0, 0.2, 2.0,\n",
       "        0.0, 946.0],\n",
       "       [45.0, 0.0, 3.0, 110.0, 264.0, 0.0, 1.0, 132.0, 0.0, 1.2, 1.0,\n",
       "        0.0, 637.0],\n",
       "       [42.0, 1.0, 0.0, 140.0, 226.0, 0.0, 1.0, 178.0, 0.0, 0.0, 1.0,\n",
       "        0.0, 688.0]], dtype=object)"
      ]
     },
     "execution_count": 1270,
     "metadata": {},
     "output_type": "execute_result"
    }
   ],
   "source": [
    "# fetch only rows with ID 946, 637, 688\n",
    "for index, row in htd_test.iterrows():\n",
    "    if(row.ID == 946):\n",
    "        test_set.append(row)\n",
    "        print(index, row.ID)\n",
    "    \n",
    "    if(row.ID == 637):\n",
    "        test_set.append(row)\n",
    "        print(index, row.ID)\n",
    "        \n",
    "    if(row.ID == 688):\n",
    "        test_set.append(row)\n",
    "        print(index, row.ID)\n",
    "        \n",
    " \n",
    "\n",
    "\n",
    "X1_test = np.array(test_set)\n",
    "\n",
    "X1_test"
   ]
  },
  {
   "cell_type": "code",
   "execution_count": 1271,
   "metadata": {},
   "outputs": [
    {
     "data": {
      "text/plain": [
       "age           45.0\n",
       "sex            0.0\n",
       "feature1       0.0\n",
       "feature2     115.0\n",
       "feature3     260.0\n",
       "feature4       0.0\n",
       "feature5       0.0\n",
       "feature6     185.0\n",
       "feature7       1.0\n",
       "feature8       0.0\n",
       "feature9       2.0\n",
       "feature10      0.0\n",
       "ID           344.0\n",
       "Name: 28, dtype: float64"
      ]
     },
     "execution_count": 1271,
     "metadata": {},
     "output_type": "execute_result"
    }
   ],
   "source": [
    "htd_test.iloc[20]"
   ]
  },
  {
   "cell_type": "code",
   "execution_count": 1272,
   "metadata": {},
   "outputs": [
    {
     "data": {
      "text/plain": [
       "array([[ 60.,   0.,   3., ...,   2.,   0., 333.],\n",
       "       [ 67.,   0.,   0., ...,   2.,   2., 496.],\n",
       "       [ 35.,   1.,   0., ...,   2.,   0., 289.],\n",
       "       ...,\n",
       "       [ 69.,   1.,   3., ...,   1.,   1., 432.],\n",
       "       [ 46.,   1.,   0., ...,   2.,   0., 631.],\n",
       "       [ 63.,   0.,   1., ...,   2.,   2., 551.]])"
      ]
     },
     "execution_count": 1272,
     "metadata": {},
     "output_type": "execute_result"
    }
   ],
   "source": [
    "X_train = htd[predictors].values\n",
    "\n",
    "#X_test = htd_test[predictors].values\n",
    "\n",
    "y_test = htd.iloc[:50,13]\n",
    "x_test = htd.iloc[:50, :13]\n",
    "\n",
    "y_train = htd['target'].values\n",
    "\n",
    "\n",
    "X_train"
   ]
  },
  {
   "cell_type": "code",
   "execution_count": 1273,
   "metadata": {},
   "outputs": [
    {
     "data": {
      "text/plain": [
       "array([[5.70e+01, 0.00e+00, 2.00e+00, 1.50e+02, 1.68e+02, 0.00e+00,\n",
       "        1.00e+00, 1.74e+02, 0.00e+00, 1.60e+00, 2.00e+00, 0.00e+00,\n",
       "        6.36e+02],\n",
       "       [5.90e+01, 0.00e+00, 0.00e+00, 1.10e+02, 2.39e+02, 0.00e+00,\n",
       "        0.00e+00, 1.42e+02, 0.00e+00, 1.20e+00, 1.00e+00, 1.00e+00,\n",
       "        8.84e+02],\n",
       "       [7.10e+01, 1.00e+00, 2.00e+00, 1.10e+02, 2.65e+02, 0.00e+00,\n",
       "        0.00e+00, 1.30e+02, 1.00e+00, 0.00e+00, 2.00e+00, 1.00e+00,\n",
       "        9.00e+02],\n",
       "       [5.40e+01, 0.00e+00, 2.00e+00, 1.25e+02, 2.36e+02, 0.00e+00,\n",
       "        0.00e+00, 1.52e+02, 0.00e+00, 5.00e-01, 0.00e+00, 1.00e+00,\n",
       "        4.10e+02],\n",
       "       [6.00e+01, 1.00e+00, 0.00e+00, 1.30e+02, 2.53e+02, 0.00e+00,\n",
       "        1.00e+00, 1.44e+02, 0.00e+00, 1.40e+00, 2.00e+00, 1.00e+00,\n",
       "        2.61e+02]])"
      ]
     },
     "execution_count": 1273,
     "metadata": {},
     "output_type": "execute_result"
    }
   ],
   "source": [
    "X_test[:5]"
   ]
  },
  {
   "cell_type": "code",
   "execution_count": 1274,
   "metadata": {},
   "outputs": [
    {
     "data": {
      "text/plain": [
       "array([1, 1, 0, 1, 0], dtype=int64)"
      ]
     },
     "execution_count": 1274,
     "metadata": {},
     "output_type": "execute_result"
    }
   ],
   "source": [
    "y_train[:5]"
   ]
  },
  {
   "cell_type": "code",
   "execution_count": 1275,
   "metadata": {},
   "outputs": [],
   "source": [
    "import sklearn\n",
    "from sklearn.linear_model import LogisticRegression"
   ]
  },
  {
   "cell_type": "code",
   "execution_count": 1276,
   "metadata": {},
   "outputs": [
    {
     "name": "stderr",
     "output_type": "stream",
     "text": [
      "C:\\Users\\David\\AppData\\Local\\conda\\conda\\envs\\deeplearning\\lib\\site-packages\\sklearn\\linear_model\\_logistic.py:764: ConvergenceWarning: lbfgs failed to converge (status=1):\n",
      "STOP: TOTAL NO. of ITERATIONS REACHED LIMIT.\n",
      "\n",
      "Increase the number of iterations (max_iter) or scale the data as shown in:\n",
      "    https://scikit-learn.org/stable/modules/preprocessing.html\n",
      "Please also refer to the documentation for alternative solver options:\n",
      "    https://scikit-learn.org/stable/modules/linear_model.html#logistic-regression\n",
      "  extra_warning_msg=_LOGISTIC_SOLVER_CONVERGENCE_MSG)\n"
     ]
    },
    {
     "data": {
      "text/plain": [
       "LogisticRegression()"
      ]
     },
     "execution_count": 1276,
     "metadata": {},
     "output_type": "execute_result"
    }
   ],
   "source": [
    "model = LogisticRegression()\n",
    "\n",
    "model.fit(X_train, y_train)"
   ]
  },
  {
   "cell_type": "code",
   "execution_count": 1277,
   "metadata": {},
   "outputs": [
    {
     "data": {
      "text/plain": [
       "array([1, 1, 1, 1], dtype=int64)"
      ]
     },
     "execution_count": 1277,
     "metadata": {},
     "output_type": "execute_result"
    }
   ],
   "source": [
    "y_predict = model.predict(X1_test)\n",
    "\n",
    "y_predict"
   ]
  },
  {
   "cell_type": "code",
   "execution_count": 1278,
   "metadata": {},
   "outputs": [
    {
     "name": "stdout",
     "output_type": "stream",
     "text": [
      "model score: 0.800\n"
     ]
    }
   ],
   "source": [
    "print(\"model score: %.3f\" % model.score(x_test, y_test))"
   ]
  }
 ],
 "metadata": {
  "kernelspec": {
   "display_name": "Python 3",
   "language": "python",
   "name": "python3"
  },
  "language_info": {
   "codemirror_mode": {
    "name": "ipython",
    "version": 3
   },
   "file_extension": ".py",
   "mimetype": "text/x-python",
   "name": "python",
   "nbconvert_exporter": "python",
   "pygments_lexer": "ipython3",
   "version": "3.7.1"
  }
 },
 "nbformat": 4,
 "nbformat_minor": 4
}
